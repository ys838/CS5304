{
 "cells": [
  {
   "cell_type": "code",
   "execution_count": 272,
   "metadata": {
    "collapsed": true
   },
   "outputs": [],
   "source": [
    "import pandas as pd\n",
    "import sklearn\n",
    "from sklearn.model_selection import train_test_split\n",
    "import matplotlib.pyplot as plot\n",
    "import numpy as np\n",
    "from sklearn.metrics import mean_squared_error"
   ]
  },
  {
   "cell_type": "code",
   "execution_count": 273,
   "metadata": {
    "collapsed": true
   },
   "outputs": [],
   "source": [
    "data = pd.read_csv('processed.cleveland.data.txt', sep=\",\", header=None)"
   ]
  },
  {
   "cell_type": "code",
   "execution_count": 274,
   "metadata": {},
   "outputs": [
    {
     "data": {
      "text/plain": [
       "(303, 14)"
      ]
     },
     "execution_count": 274,
     "metadata": {},
     "output_type": "execute_result"
    }
   ],
   "source": [
    "data.shape"
   ]
  },
  {
   "cell_type": "code",
   "execution_count": 275,
   "metadata": {},
   "outputs": [],
   "source": [
    "#handle missing value, remove from the dataset\n",
    "dropRows = []\n",
    "for i in range(data.shape[0]):\n",
    "    for j in range(data.shape[1]):\n",
    "        if data.iloc[i, j] is '?':\n",
    "            dropRows.append(i)\n"
   ]
  },
  {
   "cell_type": "code",
   "execution_count": 276,
   "metadata": {},
   "outputs": [
    {
     "data": {
      "text/plain": [
       "[87, 166, 192, 266, 287, 302]"
      ]
     },
     "execution_count": 276,
     "metadata": {},
     "output_type": "execute_result"
    }
   ],
   "source": [
    "dropRows"
   ]
  },
  {
   "cell_type": "code",
   "execution_count": 277,
   "metadata": {
    "collapsed": true
   },
   "outputs": [],
   "source": [
    "data = data.drop(dropRows)"
   ]
  },
  {
   "cell_type": "code",
   "execution_count": 278,
   "metadata": {
    "collapsed": true
   },
   "outputs": [],
   "source": [
    "data = data.reset_index(drop = True)"
   ]
  },
  {
   "cell_type": "code",
   "execution_count": 279,
   "metadata": {
    "collapsed": true
   },
   "outputs": [],
   "source": [
    "for i in range(14):\n",
    "    data.iloc[:, i] = pd.to_numeric(data.iloc[:, i], errors='coerce')\n"
   ]
  },
  {
   "cell_type": "code",
   "execution_count": 280,
   "metadata": {},
   "outputs": [
    {
     "name": "stdout",
     "output_type": "stream",
     "text": [
      "standard deviation for column  0 :  9.049735681096765 variance for column  0 :  81.89771589771594\n",
      "standard deviation for column  1 :  0.46849996744100164 variance for column  1 :  0.2194922194922196\n",
      "standard deviation for column  2 :  0.9648594099420302 variance for column  2 :  0.9309536809536827\n",
      "standard deviation for column  3 :  17.762806366598998 variance for column  3 :  315.51729001728984\n",
      "standard deviation for column  4 :  51.99758253513897 variance for column  4 :  2703.748589498589\n",
      "standard deviation for column  5 :  0.35247393412545347 variance for column  5 :  0.12423787423787452\n",
      "standard deviation for column  6 :  0.9949138102637306 variance for column  6 :  0.9898534898534945\n",
      "standard deviation for column  7 :  22.941562061360813 variance for column  7 :  526.3152698152697\n",
      "standard deviation for column  8 :  0.4697608121961864 variance for column  8 :  0.22067522067522066\n",
      "standard deviation for column  9 :  1.1661227818468953 variance for column  9 :  1.359842342342342\n",
      "standard deviation for column  10 :  0.6181867696375288 variance for column  10 :  0.38215488215488314\n",
      "standard deviation for column  11 :  0.93896452630245 variance for column  11 :  0.8816543816543843\n",
      "standard deviation for column  12 :  1.9386286411484317 variance for column  12 :  3.7582810082810147\n",
      "standard deviation for column  13 :  1.23455053526173 variance for column  13 :  1.5241150241150243\n"
     ]
    }
   ],
   "source": [
    "# visualize data \n",
    "for i in range(0, 14):\n",
    "    print('standard deviation for column ', str(i), ': ', data.iloc[:, i].std(), 'variance for column ', str(i), ': ', data.iloc[:, i].var())\n",
    "    "
   ]
  },
  {
   "cell_type": "code",
   "execution_count": 281,
   "metadata": {},
   "outputs": [],
   "source": [
    "data_label = data.iloc[:, -1]"
   ]
  },
  {
   "cell_type": "code",
   "execution_count": 282,
   "metadata": {},
   "outputs": [],
   "source": [
    "data = data.iloc[:, 0 : -1]"
   ]
  },
  {
   "cell_type": "code",
   "execution_count": 191,
   "metadata": {
    "collapsed": true
   },
   "outputs": [],
   "source": [
    "train, test, train_label, test_label = train_test_split(data, data_label, test_size=0.3, random_state=27)"
   ]
  },
  {
   "cell_type": "code",
   "execution_count": 96,
   "metadata": {
    "collapsed": true
   },
   "outputs": [],
   "source": [
    "from sklearn import tree\n",
    "from sklearn.model_selection import cross_val_score"
   ]
  },
  {
   "cell_type": "code",
   "execution_count": 398,
   "metadata": {},
   "outputs": [
    {
     "name": "stdout",
     "output_type": "stream",
     "text": [
      "0.488888888889\n"
     ]
    }
   ],
   "source": [
    "clf = tree.DecisionTreeClassifier()\n",
    "clf.fit(train, train_label)\n",
    "print(clf.fit(train, train_label).score(test, test_label))"
   ]
  },
  {
   "cell_type": "code",
   "execution_count": 399,
   "metadata": {
    "collapsed": true
   },
   "outputs": [],
   "source": [
    "result = clf.predict(test)"
   ]
  },
  {
   "cell_type": "code",
   "execution_count": 400,
   "metadata": {},
   "outputs": [
    {
     "data": {
      "text/plain": [
       "1.4222222222222223"
      ]
     },
     "execution_count": 400,
     "metadata": {},
     "output_type": "execute_result"
    }
   ],
   "source": [
    "rmse = mean_squared_error(test_label, result)\n",
    "rmse"
   ]
  },
  {
   "cell_type": "code",
   "execution_count": 100,
   "metadata": {
    "collapsed": true
   },
   "outputs": [],
   "source": [
    "scores = cross_val_score(clf, data, data_label, cv=5)"
   ]
  },
  {
   "cell_type": "code",
   "execution_count": 101,
   "metadata": {},
   "outputs": [
    {
     "data": {
      "text/plain": [
       "array([ 0.48333333,  0.51666667,  0.48333333,  0.47457627,  0.51724138])"
      ]
     },
     "execution_count": 101,
     "metadata": {},
     "output_type": "execute_result"
    }
   ],
   "source": [
    "scores"
   ]
  },
  {
   "cell_type": "code",
   "execution_count": 102,
   "metadata": {},
   "outputs": [
    {
     "name": "stdout",
     "output_type": "stream",
     "text": [
      "Average accuracy is  0.495030196766\n"
     ]
    }
   ],
   "source": [
    "acc = scores.mean()\n",
    "print('Average accuracy is ', acc)"
   ]
  },
  {
   "cell_type": "code",
   "execution_count": 103,
   "metadata": {
    "collapsed": true
   },
   "outputs": [],
   "source": [
    "def cross_val_score_acc(model, data, label, cv):\n",
    "    scores = cross_val_score(model, data, label, cv = cv)\n",
    "    avg_acc = scores.mean()\n",
    "    return avg_acc"
   ]
  },
  {
   "cell_type": "code",
   "execution_count": 390,
   "metadata": {},
   "outputs": [
    {
     "name": "stdout",
     "output_type": "stream",
     "text": [
      "2.44444444444\n",
      "0.533333333333\n"
     ]
    }
   ],
   "source": [
    "from sklearn import svm\n",
    "svmClf = svm.SVC()\n",
    "svmClf.fit(train, train_label)\n",
    "svmResult = svmClf.predict(test)\n",
    "rmse = mean_squared_error(test_label, svmResult)\n",
    "print(rmse)\n",
    "print(svmClf.fit(train, train_label).score(test, test_label))"
   ]
  },
  {
   "cell_type": "code",
   "execution_count": 295,
   "metadata": {},
   "outputs": [
    {
     "name": "stdout",
     "output_type": "stream",
     "text": [
      "0.541408147534\n"
     ]
    }
   ],
   "source": [
    "print(cross_val_score_acc(svmClf, train, train_label, 5))"
   ]
  },
  {
   "cell_type": "code",
   "execution_count": 394,
   "metadata": {},
   "outputs": [
    {
     "name": "stdout",
     "output_type": "stream",
     "text": [
      "0.533333333333\n"
     ]
    },
    {
     "data": {
      "text/plain": [
       "1.8666666666666667"
      ]
     },
     "execution_count": 394,
     "metadata": {},
     "output_type": "execute_result"
    }
   ],
   "source": [
    "from sklearn.naive_bayes import GaussianNB\n",
    "gnbClf = GaussianNB()\n",
    "gnbClf.fit(train, train_label)\n",
    "gnbResult = gnbClf.predict(test)\n",
    "rmse = mean_squared_error(gnbResult, test_label)\n",
    "print(gnbClf.fit(train, train_label).score(test, test_label))\n",
    "rmse"
   ]
  },
  {
   "cell_type": "code",
   "execution_count": 107,
   "metadata": {},
   "outputs": [
    {
     "name": "stdout",
     "output_type": "stream",
     "text": [
      "0.559162283265\n"
     ]
    }
   ],
   "source": [
    "print(cross_val_score_acc(gnbClf, data, data_label, 5))"
   ]
  },
  {
   "cell_type": "code",
   "execution_count": 381,
   "metadata": {},
   "outputs": [
    {
     "name": "stdout",
     "output_type": "stream",
     "text": [
      "1.77777777778\n",
      "before: 0.555555555556\n"
     ]
    }
   ],
   "source": [
    "from sklearn.ensemble import RandomForestClassifier\n",
    "rfClf = RandomForestClassifier(max_depth=3, random_state=0)\n",
    "rfClf = rfClf.fit(train, train_label)\n",
    "rfResult = rfClf.predict(test)\n",
    "rmse = mean_squared_error(test_label, rfResult)\n",
    "print(rmse)\n",
    "print(\"before:\", rfClf.fit(train, train_label).score(test, test_label))"
   ]
  },
  {
   "cell_type": "code",
   "execution_count": 109,
   "metadata": {},
   "outputs": [
    {
     "name": "stdout",
     "output_type": "stream",
     "text": [
      "0.558759010325\n"
     ]
    }
   ],
   "source": [
    "print(cross_val_score_acc(rfClf, data, data_label, 5))"
   ]
  },
  {
   "cell_type": "code",
   "execution_count": 110,
   "metadata": {},
   "outputs": [
    {
     "name": "stdout",
     "output_type": "stream",
     "text": [
      "standard deviation for column  0 :  9.049735681096765 variance for column  0 :  81.89771589771594\n",
      "min for column  0 :  29.0 max for column  0 :  77.0\n",
      "mean for column  0 :  54.54208754208754\n",
      "standard deviation for column  1 :  0.46849996744100164 variance for column  1 :  0.2194922194922196\n",
      "min for column  1 :  0.0 max for column  1 :  1.0\n",
      "mean for column  1 :  0.6767676767676768\n",
      "standard deviation for column  2 :  0.9648594099420302 variance for column  2 :  0.9309536809536827\n",
      "min for column  2 :  1.0 max for column  2 :  4.0\n",
      "mean for column  2 :  3.1582491582491583\n",
      "standard deviation for column  3 :  17.762806366598998 variance for column  3 :  315.51729001728984\n",
      "min for column  3 :  94.0 max for column  3 :  200.0\n",
      "mean for column  3 :  131.69360269360268\n",
      "standard deviation for column  4 :  51.99758253513897 variance for column  4 :  2703.748589498589\n",
      "min for column  4 :  126.0 max for column  4 :  564.0\n",
      "mean for column  4 :  247.35016835016836\n",
      "standard deviation for column  5 :  0.35247393412545347 variance for column  5 :  0.12423787423787452\n",
      "min for column  5 :  0.0 max for column  5 :  1.0\n",
      "mean for column  5 :  0.1447811447811448\n",
      "standard deviation for column  6 :  0.9949138102637306 variance for column  6 :  0.9898534898534945\n",
      "min for column  6 :  0.0 max for column  6 :  2.0\n",
      "mean for column  6 :  0.9966329966329966\n",
      "standard deviation for column  7 :  22.941562061360813 variance for column  7 :  526.3152698152697\n",
      "min for column  7 :  71.0 max for column  7 :  202.0\n",
      "mean for column  7 :  149.5993265993266\n",
      "standard deviation for column  8 :  0.4697608121961864 variance for column  8 :  0.22067522067522066\n",
      "min for column  8 :  0.0 max for column  8 :  1.0\n",
      "mean for column  8 :  0.3265993265993266\n",
      "standard deviation for column  9 :  1.1661227818468953 variance for column  9 :  1.359842342342342\n",
      "min for column  9 :  0.0 max for column  9 :  6.2\n",
      "mean for column  9 :  1.0555555555555558\n",
      "standard deviation for column  10 :  0.6181867696375288 variance for column  10 :  0.38215488215488314\n",
      "min for column  10 :  1.0 max for column  10 :  3.0\n",
      "mean for column  10 :  1.6026936026936027\n",
      "standard deviation for column  11 :  0.93896452630245 variance for column  11 :  0.8816543816543843\n",
      "min for column  11 :  0.0 max for column  11 :  3.0\n",
      "mean for column  11 :  0.6767676767676768\n",
      "standard deviation for column  12 :  1.9386286411484317 variance for column  12 :  3.7582810082810147\n",
      "min for column  12 :  3.0 max for column  12 :  7.0\n",
      "mean for column  12 :  4.730639730639731\n"
     ]
    }
   ],
   "source": [
    "# visualize data \n",
    "for i in range(0, 13):\n",
    "    print('standard deviation for column ', str(i), ': ', data.iloc[:, i].std(), 'variance for column ', str(i), ': ', data.iloc[:, i].var())\n",
    "    print('min for column ', str(i), ': ', data.iloc[:, i].min(), 'max for column ', str(i), ': ', data.iloc[:, i].max())\n",
    "    print('mean for column ', str(i), ': ', data.iloc[:, i].mean())\n",
    "    "
   ]
  },
  {
   "cell_type": "code",
   "execution_count": 111,
   "metadata": {},
   "outputs": [
    {
     "name": "stdout",
     "output_type": "stream",
     "text": [
      "standard deviation for column  0 :  1.23455053526173 variance for column  0 :  1.5241150241150243\n",
      "min for column  0 :  0 max for column  0 :  4\n",
      "mean for column  0 :  0.9461279461279462\n"
     ]
    }
   ],
   "source": [
    "for i in range(0, 1):\n",
    "    print('standard deviation for column ', str(i), ': ', data_label.std(), 'variance for column ', str(i), ': ', data_label.var())\n",
    "    print('min for column ', str(i), ': ', data_label.min(), 'max for column ', str(i), ': ', data_label.max())\n",
    "    print('mean for column ', str(i), ': ', data_label.mean())"
   ]
  },
  {
   "cell_type": "code",
   "execution_count": 112,
   "metadata": {
    "scrolled": true
   },
   "outputs": [
    {
     "data": {
      "image/png": "[encoded data removed]",
      "text/plain": [
       "<matplotlib.figure.Figure at 0x1a28318f28>"
      ]
     },
     "metadata": {},
     "output_type": "display_data"
    }
   ],
   "source": [
    "data_label.hist()\n",
    "plot.show()"
   ]
  },
  {
   "cell_type": "code",
   "execution_count": 113,
   "metadata": {},
   "outputs": [
    {
     "data": {
      "image/png": "[encoded data removed]",
      "text/plain": [
       "<matplotlib.figure.Figure at 0x1a26280940>"
      ]
     },
     "metadata": {},
     "output_type": "display_data"
    }
   ],
   "source": [
    "plot.hist(data_label, 30, facecolor='g', alpha=0.75)\n",
    "plot.show()"
   ]
  },
  {
   "cell_type": "code",
   "execution_count": 114,
   "metadata": {},
   "outputs": [
    {
     "data": {
      "text/plain": [
       "array([ 10847.])"
      ]
     },
     "execution_count": 114,
     "metadata": {},
     "output_type": "execute_result"
    }
   ],
   "source": [
    "np.correlate(data.iloc[:, 0], data.iloc[:, 1], )"
   ]
  },
  {
   "cell_type": "code",
   "execution_count": 115,
   "metadata": {
    "collapsed": true
   },
   "outputs": [],
   "source": [
    "from sklearn.neural_network import MLPClassifier"
   ]
  },
  {
   "cell_type": "code",
   "execution_count": 338,
   "metadata": {
    "collapsed": true
   },
   "outputs": [],
   "source": [
    "mlpClf = MLPClassifier(solver='lbfgs', alpha=1e-5, hidden_layer_sizes=(7, 4), random_state=1)"
   ]
  },
  {
   "cell_type": "code",
   "execution_count": 371,
   "metadata": {},
   "outputs": [
    {
     "data": {
      "text/plain": [
       "MLPClassifier(activation='relu', alpha=1e-05, batch_size='auto', beta_1=0.9,\n",
       "       beta_2=0.999, early_stopping=False, epsilon=1e-08,\n",
       "       hidden_layer_sizes=(7, 4), learning_rate='constant',\n",
       "       learning_rate_init=0.001, max_iter=200, momentum=0.9,\n",
       "       nesterovs_momentum=True, power_t=0.5, random_state=1, shuffle=True,\n",
       "       solver='lbfgs', tol=0.0001, validation_fraction=0.1, verbose=False,\n",
       "       warm_start=False)"
      ]
     },
     "execution_count": 371,
     "metadata": {},
     "output_type": "execute_result"
    }
   ],
   "source": [
    "mlpClf.fit(train, train_label)"
   ]
  },
  {
   "cell_type": "code",
   "execution_count": 372,
   "metadata": {},
   "outputs": [
    {
     "name": "stdout",
     "output_type": "stream",
     "text": [
      "0.533333333333\n"
     ]
    },
    {
     "data": {
      "text/plain": [
       "1.8666666666666667"
      ]
     },
     "execution_count": 372,
     "metadata": {},
     "output_type": "execute_result"
    }
   ],
   "source": [
    "mlpResult = mlpClf.predict(test)\n",
    "\n",
    "print(mlpClf.score(test, test_label))\n",
    "rmse = mean_squared_error(test_label, gnbResult)\n",
    "rmse"
   ]
  },
  {
   "cell_type": "code",
   "execution_count": 119,
   "metadata": {},
   "outputs": [
    {
     "name": "stdout",
     "output_type": "stream",
     "text": [
      "0.549049288915\n"
     ]
    }
   ],
   "source": [
    "print(cross_val_score_acc(mlpClf, data, data_label, 5))"
   ]
  },
  {
   "cell_type": "code",
   "execution_count": 120,
   "metadata": {},
   "outputs": [
    {
     "data": {
      "text/plain": [
       "1.1333333333333333"
      ]
     },
     "execution_count": 120,
     "metadata": {},
     "output_type": "execute_result"
    }
   ],
   "source": [
    "from sklearn.ensemble import AdaBoostClassifier\n",
    "adaClf = AdaBoostClassifier()\n",
    "adaClf.fit(train, train_label)\n",
    "adaResult = adaClf.predict(test)\n",
    "rmse = mean_squared_error(test_label, adaResult)\n",
    "rmse"
   ]
  },
  {
   "cell_type": "code",
   "execution_count": 121,
   "metadata": {},
   "outputs": [
    {
     "name": "stdout",
     "output_type": "stream",
     "text": [
      "0.532437171245\n"
     ]
    }
   ],
   "source": [
    "print(cross_val_score_acc(adaClf, data, data_label, 5))"
   ]
  },
  {
   "cell_type": "code",
   "execution_count": 140,
   "metadata": {},
   "outputs": [
    {
     "name": "stderr",
     "output_type": "stream",
     "text": [
      "/Users/nick/anaconda/lib/python3.5/site-packages/ipykernel/__main__.py:2: FutureWarning: reshape is deprecated and will raise in a subsequent release. Please use .values.reshape(...) instead\n",
      "  from ipykernel import kernelapp as app\n"
     ]
    },
    {
     "data": {
      "text/plain": [
       "array([[ 63.,  67.,  67.,  37.,  41.,  56.,  62.,  57.,  63.,  53.,  57.,\n",
       "         56.,  56.,  44.,  52.,  57.,  48.,  54.,  48.,  49.,  64.,  58.,\n",
       "         58.,  58.,  60.,  50.,  58.,  66.,  43.,  40.,  69.,  60.,  64.,\n",
       "         59.,  44.,  42.,  43.,  57.,  55.,  61.,  65.,  40.,  71.,  59.,\n",
       "         61.,  58.,  51.,  50.,  65.,  53.,  41.,  65.,  44.,  44.,  60.,\n",
       "         54.,  50.,  41.,  54.,  51.,  51.,  46.,  58.,  54.,  54.,  60.,\n",
       "         60.,  54.,  59.,  46.,  65.,  67.,  62.,  65.,  44.,  65.,  60.,\n",
       "         51.,  48.,  58.,  45.,  53.,  39.,  68.,  52.,  44.,  47.,  53.,\n",
       "         51.,  66.,  62.,  62.,  44.,  63.,  52.,  59.,  60.,  52.,  48.,\n",
       "         45.,  34.,  57.,  71.,  49.,  54.,  59.,  57.,  61.,  39.,  61.,\n",
       "         56.,  52.,  43.,  62.,  41.,  58.,  35.,  63.,  65.,  48.,  63.,\n",
       "         51.,  55.,  65.,  45.,  56.,  54.,  44.,  62.,  54.,  51.,  29.,\n",
       "         51.,  43.,  55.,  70.,  62.,  35.,  51.,  59.,  59.,  52.,  64.,\n",
       "         58.,  47.,  57.,  41.,  45.,  60.,  52.,  42.,  67.,  55.,  64.,\n",
       "         70.,  51.,  58.,  60.,  68.,  46.,  77.,  54.,  58.,  48.,  57.,\n",
       "         54.,  35.,  45.,  70.,  53.,  59.,  62.,  64.,  57.,  52.,  56.,\n",
       "         43.,  53.,  48.,  56.,  42.,  59.,  60.,  63.,  42.,  66.,  54.,\n",
       "         69.,  50.,  51.,  62.,  68.,  67.,  69.,  45.,  50.,  59.,  50.,\n",
       "         64.,  57.,  64.,  43.,  45.,  58.,  50.,  55.,  62.,  37.,  38.,\n",
       "         41.,  66.,  52.,  56.,  46.,  46.,  64.,  59.,  41.,  54.,  39.,\n",
       "         53.,  63.,  34.,  47.,  67.,  54.,  66.,  52.,  55.,  49.,  74.,\n",
       "         54.,  54.,  56.,  46.,  49.,  42.,  41.,  41.,  49.,  61.,  60.,\n",
       "         67.,  58.,  47.,  52.,  62.,  57.,  58.,  64.,  51.,  43.,  42.,\n",
       "         67.,  76.,  70.,  57.,  44.,  58.,  60.,  44.,  61.,  42.,  59.,\n",
       "         40.,  42.,  61.,  66.,  46.,  71.,  59.,  64.,  66.,  39.,  57.,\n",
       "         58.,  57.,  47.,  55.,  35.,  61.,  58.,  58.,  56.,  56.,  67.,\n",
       "         55.,  44.,  63.,  63.,  41.,  59.,  57.,  45.,  68.,  57.,  57.]])"
      ]
     },
     "execution_count": 140,
     "metadata": {},
     "output_type": "execute_result"
    }
   ],
   "source": [
    "from sklearn.decomposition import PCA\n",
    "nData.iloc[:, 0].reshape(1, -1)"
   ]
  },
  {
   "cell_type": "code",
   "execution_count": 156,
   "metadata": {},
   "outputs": [
    {
     "data": {
      "text/plain": [
       "1.0000000000000016"
      ]
     },
     "execution_count": 156,
     "metadata": {},
     "output_type": "execute_result"
    }
   ],
   "source": [
    "from sklearn import manifold\n",
    "from sklearn.preprocessing import normalize\n",
    "nData = data\n",
    "for i in range(13):\n",
    "    nData.iloc[:, 0] = (nData.iloc[:, i]-nData.iloc[:, i].mean())/nData.iloc[:, i].std()\n",
    "    \n",
    "nData.iloc[:, 0].var()"
   ]
  },
  {
   "cell_type": "code",
   "execution_count": 154,
   "metadata": {},
   "outputs": [
    {
     "data": {
      "text/plain": [
       "0.5321268237934903"
      ]
     },
     "execution_count": 154,
     "metadata": {},
     "output_type": "execute_result"
    }
   ],
   "source": []
  },
  {
   "cell_type": "code",
   "execution_count": 157,
   "metadata": {},
   "outputs": [
    {
     "name": "stderr",
     "output_type": "stream",
     "text": [
      "/Users/nick/anaconda/lib/python3.5/site-packages/matplotlib/axes/_axes.py:545: UserWarning: No labelled objects found. Use label='...' kwarg on individual plots.\n",
      "  warnings.warn(\"No labelled objects found. \"\n"
     ]
    },
    {
     "data": {
      "image/png": "[encoded data removed]",
      "text/plain": [
       "<matplotlib.figure.Figure at 0x1a2622dfd0>"
      ]
     },
     "metadata": {},
     "output_type": "display_data"
    }
   ],
   "source": [
    "pca = PCA(n_components=2)\n",
    "result2d = pca.fit(nData).transform(nData)\n",
    "plt.figure(figsize=(20,16))\n",
    "for i in range(5):\n",
    "    plt.scatter(result2d[data_label == i, 0], result2d[data_label == i, 1], alpha=.5, lw=2)\n",
    "plt.legend(loc='best', shadow=False, scatterpoints=1)\n",
    "plt.title('PCA Projection')\n",
    "plt.show()"
   ]
  },
  {
   "cell_type": "code",
   "execution_count": 159,
   "metadata": {},
   "outputs": [
    {
     "name": "stdout",
     "output_type": "stream",
     "text": [
      "0.579222676797\n"
     ]
    }
   ],
   "source": [
    "print(cross_val_score_acc(mlpClf, nData, data_label, 5))"
   ]
  },
  {
   "cell_type": "code",
   "execution_count": 160,
   "metadata": {},
   "outputs": [
    {
     "name": "stderr",
     "output_type": "stream",
     "text": [
      "/Users/nick/anaconda/lib/python3.5/site-packages/matplotlib/axes/_axes.py:545: UserWarning: No labelled objects found. Use label='...' kwarg on individual plots.\n",
      "  warnings.warn(\"No labelled objects found. \"\n"
     ]
    },
    {
     "data": {
      "image/png": "[encoded data removed]",
      "text/plain": [
       "<matplotlib.figure.Figure at 0x1a264320b8>"
      ]
     },
     "metadata": {},
     "output_type": "display_data"
    }
   ],
   "source": [
    "tsne = manifold.TSNE(n_components=2, perplexity = 100, init='random', random_state=0)\n",
    "tsneresult2d = tsne.fit_transform(train)\n",
    "plt.figure(figsize=(20,16))\n",
    "for i in range(5):\n",
    "    plt.scatter(tsneresult2d[train_label == i, 0], tsneresult2d[train_label == i, 1], alpha=.5, lw=2)\n",
    "plt.legend(loc='best', shadow=False, scatterpoints=1)\n",
    "plt.title('pure_tsne Projection')\n",
    "plt.show()"
   ]
  },
  {
   "cell_type": "code",
   "execution_count": 161,
   "metadata": {},
   "outputs": [
    {
     "name": "stdout",
     "output_type": "stream",
     "text": [
      "0.546262925957\n"
     ]
    }
   ],
   "source": [
    "clf.fit(tsneresult2d, train_label)\n",
    "print(cross_val_score_acc(mlpClf, tsneresult2d, train_label, 5))"
   ]
  },
  {
   "cell_type": "code",
   "execution_count": 73,
   "metadata": {
    "collapsed": true
   },
   "outputs": [],
   "source": [
    "from sklearn import linear_model"
   ]
  },
  {
   "cell_type": "code",
   "execution_count": 396,
   "metadata": {},
   "outputs": [
    {
     "name": "stdout",
     "output_type": "stream",
     "text": [
      "1.15555555556\n"
     ]
    }
   ],
   "source": [
    "logreg = linear_model.LogisticRegression(C=1e5, multi_class = \"multinomial\", solver = \"newton-cg\", max_iter = 200)\n",
    "logfit = logreg.fit(train, train_label)\n",
    "logfit.score(test, test_label)\n",
    "logResult = logfit.predict(test)\n",
    "print(mean_squared_error(logResult, test_label))"
   ]
  },
  {
   "cell_type": "code",
   "execution_count": 76,
   "metadata": {},
   "outputs": [],
   "source": [
    "from sklearn.neighbors import KNeighborsClassifier"
   ]
  },
  {
   "cell_type": "code",
   "execution_count": 77,
   "metadata": {
    "collapsed": true
   },
   "outputs": [],
   "source": [
    "knnClf = KNeighborsClassifier(3)"
   ]
  },
  {
   "cell_type": "code",
   "execution_count": 385,
   "metadata": {},
   "outputs": [
    {
     "name": "stdout",
     "output_type": "stream",
     "text": [
      "0.488884040898\n",
      "oo 0.455555555556\n",
      "2.17777777778\n"
     ]
    }
   ],
   "source": [
    "print(cross_val_score_acc(knnClf, train, train_label, 5))\n",
    "\n",
    "print(\"oo\", knnClf.fit(train, train_label).score(test, test_label))\n",
    "knnResult = knnClf.predict(test)\n",
    "print(mean_squared_error(knnResult, test_label))"
   ]
  },
  {
   "cell_type": "code",
   "execution_count": 283,
   "metadata": {},
   "outputs": [],
   "source": [
    "#drop column based on p score\n",
    "dData = data\n",
    "dData = dData.drop(columns = [0, 3, 4, 5])\n"
   ]
  },
  {
   "cell_type": "code",
   "execution_count": 354,
   "metadata": {
    "collapsed": true
   },
   "outputs": [],
   "source": [
    "train_less, test_less, train_label_less, test_label_less = train_test_split(dData, data_label, test_size=0.3, random_state=27)"
   ]
  },
  {
   "cell_type": "code",
   "execution_count": 397,
   "metadata": {},
   "outputs": [
    {
     "name": "stdout",
     "output_type": "stream",
     "text": [
      "0.602984423404\n"
     ]
    },
    {
     "data": {
      "text/plain": [
       "1.1444444444444444"
      ]
     },
     "execution_count": 397,
     "metadata": {},
     "output_type": "execute_result"
    }
   ],
   "source": [
    "print(cross_val_score_acc(logreg, train_less, train_label_less, 5))\n",
    "logfit = logreg.fit(train_less, train_label_less)\n",
    "logfit.score(test_less, test_label_less)\n",
    "logResult = logfit.predict(test_less)\n",
    "mean_squared_error(logResult, test_label_less)"
   ]
  },
  {
   "cell_type": "code",
   "execution_count": 383,
   "metadata": {},
   "outputs": [
    {
     "name": "stdout",
     "output_type": "stream",
     "text": [
      "0.588888888889\n",
      "1.47777777778\n"
     ]
    }
   ],
   "source": [
    "print(rfClf.fit(train_less, train_label_less).score(test_less, test_label_less))\n",
    "rfResult = rfClf.predict(test_less)\n",
    "print(mean_squared_error(rfResult, test_label_less))"
   ]
  },
  {
   "cell_type": "code",
   "execution_count": 391,
   "metadata": {},
   "outputs": [
    {
     "name": "stdout",
     "output_type": "stream",
     "text": [
      "0.541885189872\n",
      "oo 0.611111111111\n",
      "1.72222222222\n"
     ]
    }
   ],
   "source": [
    "print(cross_val_score_acc(svmClf, train_less, train_label_less, 5))\n",
    "print('oo', svmClf.fit(train_less, train_label_less).score(test_less, test_label_less))\n",
    "svmResult = svmClf.predict(test_less)\n",
    "print(mean_squared_error(svmResult, test_label_less))"
   ]
  },
  {
   "cell_type": "code",
   "execution_count": 363,
   "metadata": {},
   "outputs": [
    {
     "name": "stdout",
     "output_type": "stream",
     "text": [
      "0.52725104353\n",
      "oo 0.566666666667\n"
     ]
    }
   ],
   "source": [
    "print(cross_val_score_acc(adaClf, train_less, train_label_less, 5))\n",
    "print('oo', adaClf.fit(train_less, train_label_less).score(test_less, test_label_less))"
   ]
  },
  {
   "cell_type": "code",
   "execution_count": 386,
   "metadata": {},
   "outputs": [
    {
     "name": "stdout",
     "output_type": "stream",
     "text": [
      "0.54678650901\n",
      "oo 0.566666666667\n",
      "1.03333333333\n"
     ]
    }
   ],
   "source": [
    "print(cross_val_score_acc(gnbClf, train_less, train_label_less, 5))\n",
    "print('oo', gnbClf.fit(train_less, train_label_less).score(test_less, test_label_less))\n",
    "gnbResult = gnbClf.predict(test_less)\n",
    "print(mean_squared_error(gnbResult, test_label_less))"
   ]
  },
  {
   "cell_type": "code",
   "execution_count": 384,
   "metadata": {},
   "outputs": [
    {
     "name": "stdout",
     "output_type": "stream",
     "text": [
      "0.4639934843\n",
      "oo 0.555555555556\n",
      "1.52222222222\n"
     ]
    }
   ],
   "source": [
    "print(cross_val_score_acc(knnClf, train_less, train_label_less, 5))\n",
    "knnfit = knnClf.fit(train_less, train_label_less)\n",
    "print('oo', knnfit.score(test_less, test_label_less))\n",
    "knnResult = knnClf.predict(test_less)\n",
    "print(mean_squared_error(knnResult, test_label_less))"
   ]
  },
  {
   "cell_type": "code",
   "execution_count": 380,
   "metadata": {},
   "outputs": [
    {
     "name": "stdout",
     "output_type": "stream",
     "text": [
      "0.633980540163\n",
      "0.541408147534\n",
      "oo 0.622222222222\n"
     ]
    },
    {
     "data": {
      "text/plain": [
       "0.9555555555555556"
      ]
     },
     "execution_count": 380,
     "metadata": {},
     "output_type": "execute_result"
    }
   ],
   "source": [
    "print(cross_val_score_acc(mlpClf, train_less, train_label_less, 5))\n",
    "print(cross_val_score_acc(mlpClf, train, train_label, 5))\n",
    "print('oo', mlpClf.fit(train_less, train_label_less).score(test_less, test_label_less))\n",
    "mlpResult = mlpClf.predict(test_less)\n",
    "mean_squared_error(mlpResult, test_label_less)"
   ]
  },
  {
   "cell_type": "code",
   "execution_count": 368,
   "metadata": {},
   "outputs": [
    {
     "name": "stdout",
     "output_type": "stream",
     "text": [
      "Best first layer:  7  Best second layer:  4\n"
     ]
    }
   ],
   "source": [
    "bestAcc = 0\n",
    "bestI = 5\n",
    "bestJ = 2\n",
    "for i in range(5, 14):\n",
    "    for j in range(2, 13):\n",
    "        mlpClfHyper = MLPClassifier(solver='lbfgs', alpha=1e-5, hidden_layer_sizes=(i, j), random_state=1)\n",
    "        tempAcc = cross_val_score_acc(mlpClfHyper, train_less, train_label_less, 5)\n",
    "        if tempAcc >= bestAcc:\n",
    "            bestAcc = tempAcc\n",
    "            bestI = i\n",
    "            bestJ = j\n",
    "print(\"Best first layer: \", bestI, \" Best second layer: \", bestJ)"
   ]
  },
  {
   "cell_type": "code",
   "execution_count": 379,
   "metadata": {},
   "outputs": [
    {
     "name": "stdout",
     "output_type": "stream",
     "text": [
      "After  0.533333333333\n"
     ]
    },
    {
     "data": {
      "text/plain": [
       "1.0555555555555556"
      ]
     },
     "execution_count": 379,
     "metadata": {},
     "output_type": "execute_result"
    }
   ],
   "source": [
    "print(\"After \", clf.fit(train_less, train_label_less).score(test_less, test_label_less))\n",
    "clfResult = clf.predict(test_less)\n",
    "mean_squared_error(clfResult, test_label_less)"
   ]
  },
  {
   "cell_type": "code",
   "execution_count": null,
   "metadata": {
    "collapsed": true
   },
   "outputs": [],
   "source": []
  }
 ],
 "metadata": {
  "kernelspec": {
   "display_name": "Python [default]",
   "language": "python",
   "name": "python3"
  },
  "language_info": {
   "codemirror_mode": {
    "name": "ipython",
    "version": 3
   },
   "file_extension": ".py",
   "mimetype": "text/x-python",
   "name": "python",
   "nbconvert_exporter": "python",
   "pygments_lexer": "ipython3",
   "version": "3.5.3"
  }
 },
 "nbformat": 4,
 "nbformat_minor": 2
}
